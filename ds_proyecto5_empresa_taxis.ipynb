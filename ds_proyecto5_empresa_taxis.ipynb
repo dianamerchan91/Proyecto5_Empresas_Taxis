{
 "cells": [
  {
   "cell_type": "markdown",
   "metadata": {},
   "source": [
    "# Análisis de viajes realizados por las principales compañías de taxis en Chicago para la empresa de viajes compartidos ZUBER"
   ]
  },
  {
   "cell_type": "markdown",
   "metadata": {
    "toc": true
   },
   "source": [
    "<h1>Tabla de contenidos<span class=\"tocSkip\"></span></h1>\n",
    "<div class=\"toc\"><ul class=\"toc-item\"><li><span><a href=\"#Introducción\" data-toc-modified-id=\"Introducción-1\"><span class=\"toc-item-num\">1&nbsp;&nbsp;</span>Introducción</a></span><ul class=\"toc-item\"><li><span><a href=\"#Objetivos\" data-toc-modified-id=\"Objetivos-1.1\"><span class=\"toc-item-num\">1.1&nbsp;&nbsp;</span>Objetivos</a></span></li><li><span><a href=\"#Hipótesis\" data-toc-modified-id=\"Hipótesis-1.2\"><span class=\"toc-item-num\">1.2&nbsp;&nbsp;</span>Hipótesis</a></span></li></ul></li><li><span><a href=\"#Inicialización\" data-toc-modified-id=\"Inicialización-2\"><span class=\"toc-item-num\">2&nbsp;&nbsp;</span>Inicialización</a></span><ul class=\"toc-item\"><li><span><a href=\"#Cargar-datos\" data-toc-modified-id=\"Cargar-datos-2.1\"><span class=\"toc-item-num\">2.1&nbsp;&nbsp;</span>Cargar datos</a></span></li><li><span><a href=\"#Explorar-datos-iniciales\" data-toc-modified-id=\"Explorar-datos-iniciales-2.2\"><span class=\"toc-item-num\">2.2&nbsp;&nbsp;</span>Explorar datos iniciales</a></span><ul class=\"toc-item\"><li><span><a href=\"#Dataset-company_trips\" data-toc-modified-id=\"Dataset-company_trips-2.2.1\"><span class=\"toc-item-num\">2.2.1&nbsp;&nbsp;</span>Dataset <code>company_trips</code></a></span></li><li><span><a href=\"#Dataset-dropoff_trips\" data-toc-modified-id=\"Dataset-dropoff_trips-2.2.2\"><span class=\"toc-item-num\">2.2.2&nbsp;&nbsp;</span>Dataset <code>dropoff_trips</code></a></span></li><li><span><a href=\"#Dataset-weather_trips\" data-toc-modified-id=\"Dataset-weather_trips-2.2.3\"><span class=\"toc-item-num\">2.2.3&nbsp;&nbsp;</span>Dataset <code>weather_trips</code></a></span></li></ul></li><li><span><a href=\"#Conclusiones\" data-toc-modified-id=\"Conclusiones-2.3\"><span class=\"toc-item-num\">2.3&nbsp;&nbsp;</span>Conclusiones</a></span></li></ul></li><li><span><a href=\"#Preprocesamiento-de-datos\" data-toc-modified-id=\"Preprocesamiento-de-datos-3\"><span class=\"toc-item-num\">3&nbsp;&nbsp;</span>Preprocesamiento de datos</a></span><ul class=\"toc-item\"><li><span><a href=\"#Corregir-datos-del-dataset-dropoff_trips\" data-toc-modified-id=\"Corregir-datos-del-dataset-dropoff_trips-3.1\"><span class=\"toc-item-num\">3.1&nbsp;&nbsp;</span>Corregir datos del dataset <code>dropoff_trips</code></a></span></li><li><span><a href=\"#Corregir-datos-del-dataset-weather_trips\" data-toc-modified-id=\"Corregir-datos-del-dataset-weather_trips-3.2\"><span class=\"toc-item-num\">3.2&nbsp;&nbsp;</span>Corregir datos del dataset <code>weather_trips</code></a></span></li><li><span><a href=\"#Conclusiones\" data-toc-modified-id=\"Conclusiones-3.3\"><span class=\"toc-item-num\">3.3&nbsp;&nbsp;</span>Conclusiones</a></span></li></ul></li><li><span><a href=\"#Análisis-exploratorio-de-datos\" data-toc-modified-id=\"Análisis-exploratorio-de-datos-4\"><span class=\"toc-item-num\">4&nbsp;&nbsp;</span>Análisis exploratorio de datos</a></span><ul class=\"toc-item\"><li><span><a href=\"#Número-de-viajes-por-compañía-de-taxis\" data-toc-modified-id=\"Número-de-viajes-por-compañía-de-taxis-4.1\"><span class=\"toc-item-num\">4.1&nbsp;&nbsp;</span>Número de viajes por compañía de taxis</a></span></li><li><span><a href=\"#Barrios-Principales-por-número-de-finalizaciones\" data-toc-modified-id=\"Barrios-Principales-por-número-de-finalizaciones-4.2\"><span class=\"toc-item-num\">4.2&nbsp;&nbsp;</span>Barrios Principales por número de finalizaciones</a></span></li></ul></li><li><span><a href=\"#Prueba-de-hipótesis\" data-toc-modified-id=\"Prueba-de-hipótesis-5\"><span class=\"toc-item-num\">5&nbsp;&nbsp;</span>Prueba de hipótesis</a></span><ul class=\"toc-item\"><li><span><a href=\"#Hipótesis:-la-duración-promedio-de-los-viajes-desde-el-Loop-hasta-el-Aeropuerto-Internacional-O'Hare-cambia-los-sábados-lluviosos\" data-toc-modified-id=\"Hipótesis:-la-duración-promedio-de-los-viajes-desde-el-Loop-hasta-el-Aeropuerto-Internacional-O'Hare-cambia-los-sábados-lluviosos-5.1\"><span class=\"toc-item-num\">5.1&nbsp;&nbsp;</span>Hipótesis: la duración promedio de los viajes desde el Loop hasta el Aeropuerto Internacional O'Hare cambia los sábados lluviosos</a></span></li></ul></li><li><span><a href=\"#Conclusiones\" data-toc-modified-id=\"Conclusiones-6\"><span class=\"toc-item-num\">6&nbsp;&nbsp;</span>Conclusiones</a></span></li></ul></div>"
   ]
  },
  {
   "cell_type": "markdown",
   "metadata": {},
   "source": [
    "## Introducción\n",
    "\n",
    "Zuber es una nueva empresa de viajes compartidos que se está lanzando en Chicago. Esta nueva modalidad de viajes compartidos se conoce como carpooling que consiste en compartir un auto de uso particular con varias personas que van a realizar el mismo trayecto, dividiendo los costos del viaje entre todos los pasajeros. El viaje tendrá una fecha y barrio específico de salida, y a su vez, una fecha y barrio específico de llegada. \n",
    "\n",
    "Al ser una empresa relativamente nueva, Zuber está tratando de encontrar patrones en la información disponible sobre las preferencias de sus clientes y cómo ciertos factores externos pueden influir en los viajes. Para poder encontrar estos patrones, se va a analizar la información disponible sobre viajes de los competidores de diferentes agencias de taxis en Chicago. \n",
    "\n",
    "Previamente se trabajó con bases de datos relaciones en SQL, que contenían información sobre cada viaje realizado por un taxi de cada compañía de la competencia, detallando la duración del viaje y los barrios de llegada o salida en noviembre de 2017. A su vez, se obtuvo información del clima en Chicago en la misma época a través de recursos en línea. \n",
    "\n",
    "En base a estos datos, se creó un dataset con la información del número de viajes por compañía de taxis el 15 y 16 de Noviembre, y otro dataset con las condiciones climáticas y duración de viajes los días sábados desde Loop hasta el Aeropuerto Internacional O'Hare. A partir de los cuales se podrá establecer patrones en las preferencias de los clientes. También se analizará la información de un tercer dataset que contiene el promedio de viajes que terminaron en cada barrio de Chicago.  \n",
    "\n",
    "### Objetivos\n",
    "\n",
    "1. Establecer los 10 barrios principales de Chicago en términos de finalización de viajes.\n",
    "2. Establecer las empresas con el mayor número de viajes.\n",
    "3. Determinar si el clima influye en la frecuencia de viajes en taxi.\n",
    "\n",
    "### Hipótesis\n",
    "\n",
    "1. La duración promedio de los viajes desde el Loop hasta el Aeropuerto Internacional O'Hare cambia los sábados lluviosos."
   ]
  },
  {
   "cell_type": "markdown",
   "metadata": {},
   "source": [
    "## Inicialización\n",
    "\n",
    "Empezamos importando las principales librerías que nos permitirán realizar un correcto análisis de datos, trazar gráficos y establecer pruebas de hipótesis. "
   ]
  },
  {
   "cell_type": "code",
   "execution_count": 1,
   "metadata": {},
   "outputs": [],
   "source": [
    "import pandas as pd\n",
    "import numpy as np\n",
    "import seaborn as sns\n",
    "import matplotlib.pyplot as plt\n",
    "from scipy import stats as st\n",
    "from scipy.stats import shapiro, normaltest\n",
    "from scipy.stats import levene\n",
    "from scipy.stats import ks_2samp"
   ]
  },
  {
   "cell_type": "markdown",
   "metadata": {},
   "source": [
    "### Cargar datos \n",
    "\n",
    "Ahora procedemos a leer los archivos que contienen la información que necesitamos analizar, para esto utilizaremos la función `read_csv` de pandas, a la cual pasaremos como argumentos la ubicación de cada uno de nuestros datasets. Guardaremos nuestro primer dataset en la variable `company_trips` y el segundo lo guardaremos como `dropoff_trips`. Para la prueba de hipótesis trabajaremos con un tercer dataset al cual llamaremos `weather_trips`."
   ]
  },
  {
   "cell_type": "code",
   "execution_count": 2,
   "metadata": {},
   "outputs": [],
   "source": [
    "company_trips = pd.read_csv('datasets/project_sql_result_01.csv')\n",
    "dropoff_trips = pd.read_csv('datasets/project_sql_result_04.csv') \n",
    "weather_trips = pd.read_csv('datasets/project_sql_result_07.csv')"
   ]
  },
  {
   "cell_type": "markdown",
   "metadata": {},
   "source": [
    "### Explorar datos iniciales\n",
    "\n",
    "Una vez que se han importando las librerías necesarias y se han guardado nuestros dataset en las variables correspondientes, procedemos a analizar cada uno de los dataset para establecer si existen valores ausentes o tipos de datos incorrectos. \n",
    "\n",
    "#### Dataset `company_trips`\n",
    "Empezamos llamando al atributo shape, y los métodos head, tail e info al dataset `company_trips`."
   ]
  },
  {
   "cell_type": "code",
   "execution_count": 3,
   "metadata": {},
   "outputs": [
    {
     "data": {
      "text/plain": [
       "(64, 2)"
      ]
     },
     "execution_count": 3,
     "metadata": {},
     "output_type": "execute_result"
    }
   ],
   "source": [
    "company_trips.shape"
   ]
  },
  {
   "cell_type": "code",
   "execution_count": 4,
   "metadata": {},
   "outputs": [
    {
     "data": {
      "text/html": [
       "<div>\n",
       "<style scoped>\n",
       "    .dataframe tbody tr th:only-of-type {\n",
       "        vertical-align: middle;\n",
       "    }\n",
       "\n",
       "    .dataframe tbody tr th {\n",
       "        vertical-align: top;\n",
       "    }\n",
       "\n",
       "    .dataframe thead th {\n",
       "        text-align: right;\n",
       "    }\n",
       "</style>\n",
       "<table border=\"1\" class=\"dataframe\">\n",
       "  <thead>\n",
       "    <tr style=\"text-align: right;\">\n",
       "      <th></th>\n",
       "      <th>company_name</th>\n",
       "      <th>trips_amount</th>\n",
       "    </tr>\n",
       "  </thead>\n",
       "  <tbody>\n",
       "    <tr>\n",
       "      <th>0</th>\n",
       "      <td>Flash Cab</td>\n",
       "      <td>19558</td>\n",
       "    </tr>\n",
       "    <tr>\n",
       "      <th>1</th>\n",
       "      <td>Taxi Affiliation Services</td>\n",
       "      <td>11422</td>\n",
       "    </tr>\n",
       "    <tr>\n",
       "      <th>2</th>\n",
       "      <td>Medallion Leasing</td>\n",
       "      <td>10367</td>\n",
       "    </tr>\n",
       "    <tr>\n",
       "      <th>3</th>\n",
       "      <td>Yellow Cab</td>\n",
       "      <td>9888</td>\n",
       "    </tr>\n",
       "    <tr>\n",
       "      <th>4</th>\n",
       "      <td>Taxi Affiliation Service Yellow</td>\n",
       "      <td>9299</td>\n",
       "    </tr>\n",
       "  </tbody>\n",
       "</table>\n",
       "</div>"
      ],
      "text/plain": [
       "                      company_name  trips_amount\n",
       "0                        Flash Cab         19558\n",
       "1        Taxi Affiliation Services         11422\n",
       "2                Medallion Leasing         10367\n",
       "3                       Yellow Cab          9888\n",
       "4  Taxi Affiliation Service Yellow          9299"
      ]
     },
     "execution_count": 4,
     "metadata": {},
     "output_type": "execute_result"
    }
   ],
   "source": [
    "company_trips.head()"
   ]
  },
  {
   "cell_type": "code",
   "execution_count": 5,
   "metadata": {},
   "outputs": [
    {
     "data": {
      "text/html": [
       "<div>\n",
       "<style scoped>\n",
       "    .dataframe tbody tr th:only-of-type {\n",
       "        vertical-align: middle;\n",
       "    }\n",
       "\n",
       "    .dataframe tbody tr th {\n",
       "        vertical-align: top;\n",
       "    }\n",
       "\n",
       "    .dataframe thead th {\n",
       "        text-align: right;\n",
       "    }\n",
       "</style>\n",
       "<table border=\"1\" class=\"dataframe\">\n",
       "  <thead>\n",
       "    <tr style=\"text-align: right;\">\n",
       "      <th></th>\n",
       "      <th>company_name</th>\n",
       "      <th>trips_amount</th>\n",
       "    </tr>\n",
       "  </thead>\n",
       "  <tbody>\n",
       "    <tr>\n",
       "      <th>59</th>\n",
       "      <td>4053 - 40193 Adwar H. Nikola</td>\n",
       "      <td>7</td>\n",
       "    </tr>\n",
       "    <tr>\n",
       "      <th>60</th>\n",
       "      <td>2733 - 74600 Benny Jona</td>\n",
       "      <td>7</td>\n",
       "    </tr>\n",
       "    <tr>\n",
       "      <th>61</th>\n",
       "      <td>5874 - 73628 Sergey Cab Corp.</td>\n",
       "      <td>5</td>\n",
       "    </tr>\n",
       "    <tr>\n",
       "      <th>62</th>\n",
       "      <td>2241 - 44667 - Felman Corp</td>\n",
       "      <td>3</td>\n",
       "    </tr>\n",
       "    <tr>\n",
       "      <th>63</th>\n",
       "      <td>3556 - 36214 RC Andrews Cab</td>\n",
       "      <td>2</td>\n",
       "    </tr>\n",
       "  </tbody>\n",
       "</table>\n",
       "</div>"
      ],
      "text/plain": [
       "                     company_name  trips_amount\n",
       "59   4053 - 40193 Adwar H. Nikola             7\n",
       "60        2733 - 74600 Benny Jona             7\n",
       "61  5874 - 73628 Sergey Cab Corp.             5\n",
       "62     2241 - 44667 - Felman Corp             3\n",
       "63    3556 - 36214 RC Andrews Cab             2"
      ]
     },
     "execution_count": 5,
     "metadata": {},
     "output_type": "execute_result"
    }
   ],
   "source": [
    "company_trips.tail()"
   ]
  },
  {
   "cell_type": "code",
   "execution_count": 6,
   "metadata": {},
   "outputs": [
    {
     "name": "stdout",
     "output_type": "stream",
     "text": [
      "<class 'pandas.core.frame.DataFrame'>\n",
      "RangeIndex: 64 entries, 0 to 63\n",
      "Data columns (total 2 columns):\n",
      " #   Column        Non-Null Count  Dtype \n",
      "---  ------        --------------  ----- \n",
      " 0   company_name  64 non-null     object\n",
      " 1   trips_amount  64 non-null     int64 \n",
      "dtypes: int64(1), object(1)\n",
      "memory usage: 1.1+ KB\n"
     ]
    }
   ],
   "source": [
    "company_trips.info()"
   ]
  },
  {
   "cell_type": "markdown",
   "metadata": {},
   "source": [
    "En el dataset `company_trips` se registran 64 filas y 2 columnas, en el cual se observan los siguientes datos:\n",
    "\n",
    "- `company_name:` nombre de la empresa de taxis.\n",
    "- `trips_amount:` el número de viajes de cada compañía de taxis el 15 y 16 de noviembre de 2017.\n",
    "\n",
    "La variable `company_name` se encuentra como tipo objeto y la variable `trips_amount` como tipo entero, lo cual es lo correcto. No se registran valores ausentes en este dataset.\n",
    "\n",
    "Ahora analicemos la columna `trips_amount` a través del método describe, y comprobemos que cada fila corresponde a una compañía con el método unique y len. "
   ]
  },
  {
   "cell_type": "code",
   "execution_count": 7,
   "metadata": {},
   "outputs": [
    {
     "name": "stdout",
     "output_type": "stream",
     "text": [
      "Número de valores únicos company_name: 64\n"
     ]
    }
   ],
   "source": [
    "print(f'Número de valores únicos company_name:', len(company_trips['company_name'].unique()))"
   ]
  },
  {
   "cell_type": "code",
   "execution_count": 8,
   "metadata": {},
   "outputs": [
    {
     "data": {
      "text/plain": [
       "count       64.000000\n",
       "mean      2145.484375\n",
       "std       3812.310186\n",
       "min          2.000000\n",
       "25%         20.750000\n",
       "50%        178.500000\n",
       "75%       2106.500000\n",
       "max      19558.000000\n",
       "Name: trips_amount, dtype: float64"
      ]
     },
     "execution_count": 8,
     "metadata": {},
     "output_type": "execute_result"
    }
   ],
   "source": [
    "company_trips['trips_amount'].describe()"
   ]
  },
  {
   "cell_type": "markdown",
   "metadata": {},
   "source": [
    "Cada fila del dataset corresponde a una compañía de taxi, por lo que en total se registraron 64 compañías de taxis en Chicago para noviembre de 2017. Para el número de viajes por compañía se observa un promedio de 2145 viajes con un mínimo de 2 viajes y un máximo de 19558. El promedio es mayor a la mediana (178.5), lo que indica una asimetría positiva con un sesgo hacia la derecha de nuestros datos, lo que se evidencia con la alta desviación estándar de 3812,31.\n",
    "\n",
    "Finalicemos comprobando si existen valores duplicados, aplicamos los métodos duplicated y sum a nuestro dataset. "
   ]
  },
  {
   "cell_type": "code",
   "execution_count": 9,
   "metadata": {},
   "outputs": [
    {
     "data": {
      "text/plain": [
       "0"
      ]
     },
     "execution_count": 9,
     "metadata": {},
     "output_type": "execute_result"
    }
   ],
   "source": [
    "company_trips.duplicated().sum()"
   ]
  },
  {
   "cell_type": "markdown",
   "metadata": {},
   "source": [
    "#### Dataset `dropoff_trips`\n",
    "\n",
    "Ahora llamemos a `shape`, `head`, `tail` e `info` a nuestro dataset `dropoff_trips`. "
   ]
  },
  {
   "cell_type": "code",
   "execution_count": 10,
   "metadata": {},
   "outputs": [
    {
     "data": {
      "text/plain": [
       "(94, 2)"
      ]
     },
     "execution_count": 10,
     "metadata": {},
     "output_type": "execute_result"
    }
   ],
   "source": [
    "dropoff_trips.shape"
   ]
  },
  {
   "cell_type": "code",
   "execution_count": 11,
   "metadata": {},
   "outputs": [
    {
     "data": {
      "text/html": [
       "<div>\n",
       "<style scoped>\n",
       "    .dataframe tbody tr th:only-of-type {\n",
       "        vertical-align: middle;\n",
       "    }\n",
       "\n",
       "    .dataframe tbody tr th {\n",
       "        vertical-align: top;\n",
       "    }\n",
       "\n",
       "    .dataframe thead th {\n",
       "        text-align: right;\n",
       "    }\n",
       "</style>\n",
       "<table border=\"1\" class=\"dataframe\">\n",
       "  <thead>\n",
       "    <tr style=\"text-align: right;\">\n",
       "      <th></th>\n",
       "      <th>dropoff_location_name</th>\n",
       "      <th>average_trips</th>\n",
       "    </tr>\n",
       "  </thead>\n",
       "  <tbody>\n",
       "    <tr>\n",
       "      <th>0</th>\n",
       "      <td>Loop</td>\n",
       "      <td>10727.466667</td>\n",
       "    </tr>\n",
       "    <tr>\n",
       "      <th>1</th>\n",
       "      <td>River North</td>\n",
       "      <td>9523.666667</td>\n",
       "    </tr>\n",
       "    <tr>\n",
       "      <th>2</th>\n",
       "      <td>Streeterville</td>\n",
       "      <td>6664.666667</td>\n",
       "    </tr>\n",
       "    <tr>\n",
       "      <th>3</th>\n",
       "      <td>West Loop</td>\n",
       "      <td>5163.666667</td>\n",
       "    </tr>\n",
       "    <tr>\n",
       "      <th>4</th>\n",
       "      <td>O'Hare</td>\n",
       "      <td>2546.900000</td>\n",
       "    </tr>\n",
       "  </tbody>\n",
       "</table>\n",
       "</div>"
      ],
      "text/plain": [
       "  dropoff_location_name  average_trips\n",
       "0                  Loop   10727.466667\n",
       "1           River North    9523.666667\n",
       "2         Streeterville    6664.666667\n",
       "3             West Loop    5163.666667\n",
       "4                O'Hare    2546.900000"
      ]
     },
     "execution_count": 11,
     "metadata": {},
     "output_type": "execute_result"
    }
   ],
   "source": [
    "dropoff_trips.head()"
   ]
  },
  {
   "cell_type": "code",
   "execution_count": 12,
   "metadata": {},
   "outputs": [
    {
     "data": {
      "text/html": [
       "<div>\n",
       "<style scoped>\n",
       "    .dataframe tbody tr th:only-of-type {\n",
       "        vertical-align: middle;\n",
       "    }\n",
       "\n",
       "    .dataframe tbody tr th {\n",
       "        vertical-align: top;\n",
       "    }\n",
       "\n",
       "    .dataframe thead th {\n",
       "        text-align: right;\n",
       "    }\n",
       "</style>\n",
       "<table border=\"1\" class=\"dataframe\">\n",
       "  <thead>\n",
       "    <tr style=\"text-align: right;\">\n",
       "      <th></th>\n",
       "      <th>dropoff_location_name</th>\n",
       "      <th>average_trips</th>\n",
       "    </tr>\n",
       "  </thead>\n",
       "  <tbody>\n",
       "    <tr>\n",
       "      <th>89</th>\n",
       "      <td>Mount Greenwood</td>\n",
       "      <td>3.137931</td>\n",
       "    </tr>\n",
       "    <tr>\n",
       "      <th>90</th>\n",
       "      <td>Hegewisch</td>\n",
       "      <td>3.117647</td>\n",
       "    </tr>\n",
       "    <tr>\n",
       "      <th>91</th>\n",
       "      <td>Burnside</td>\n",
       "      <td>2.333333</td>\n",
       "    </tr>\n",
       "    <tr>\n",
       "      <th>92</th>\n",
       "      <td>East Side</td>\n",
       "      <td>1.961538</td>\n",
       "    </tr>\n",
       "    <tr>\n",
       "      <th>93</th>\n",
       "      <td>Riverdale</td>\n",
       "      <td>1.800000</td>\n",
       "    </tr>\n",
       "  </tbody>\n",
       "</table>\n",
       "</div>"
      ],
      "text/plain": [
       "   dropoff_location_name  average_trips\n",
       "89       Mount Greenwood       3.137931\n",
       "90             Hegewisch       3.117647\n",
       "91              Burnside       2.333333\n",
       "92             East Side       1.961538\n",
       "93             Riverdale       1.800000"
      ]
     },
     "execution_count": 12,
     "metadata": {},
     "output_type": "execute_result"
    }
   ],
   "source": [
    "dropoff_trips.tail()"
   ]
  },
  {
   "cell_type": "code",
   "execution_count": 13,
   "metadata": {},
   "outputs": [
    {
     "name": "stdout",
     "output_type": "stream",
     "text": [
      "<class 'pandas.core.frame.DataFrame'>\n",
      "RangeIndex: 94 entries, 0 to 93\n",
      "Data columns (total 2 columns):\n",
      " #   Column                 Non-Null Count  Dtype  \n",
      "---  ------                 --------------  -----  \n",
      " 0   dropoff_location_name  94 non-null     object \n",
      " 1   average_trips          94 non-null     float64\n",
      "dtypes: float64(1), object(1)\n",
      "memory usage: 1.6+ KB\n"
     ]
    }
   ],
   "source": [
    "dropoff_trips.info()"
   ]
  },
  {
   "cell_type": "markdown",
   "metadata": {},
   "source": [
    "El dataset `dropoff_trips` presenta 94 filas y dos columnas, en las cuales se registran los siquientes campos:\n",
    "\n",
    "- `dropoff_location_name:` barrios de Chicago donde finalizaron los viajes\n",
    "- `average_trips:` el promedio de viajes que terminaron en cada barrio en noviembre de 2017.\n",
    "\n",
    "Cada fila representa un barrio de Chicago, por lo que en total se registran 94 barrios diferentes a los cuales las diferentes compañías de taxis realizaron viajes. Los nombres de los barrios se encuentran en tipo objeto, lo cual es correcto. Mientras que el promedio de viajes se encuentra como tipo como flotante, será necesario redondear estos valores y transformarlos a tipo entero. No se registran valores ausentes en este dataset. \n",
    "\n",
    "Procedemos a aplicar el método describe a la columna `average_trips` para entender mejor los datos con los que vamos a trabajar. También llamamos a unique y len para corroborar que cada fila representa un valor único. "
   ]
  },
  {
   "cell_type": "code",
   "execution_count": 14,
   "metadata": {},
   "outputs": [
    {
     "name": "stdout",
     "output_type": "stream",
     "text": [
      "Número de valores únicos dropoff_location_name: 94\n"
     ]
    }
   ],
   "source": [
    "print(f'Número de valores únicos dropoff_location_name:', len(dropoff_trips['dropoff_location_name'].unique()))"
   ]
  },
  {
   "cell_type": "code",
   "execution_count": 15,
   "metadata": {},
   "outputs": [
    {
     "data": {
      "text/plain": [
       "count       94.000000\n",
       "mean       599.953728\n",
       "std       1714.591098\n",
       "min          1.800000\n",
       "25%         14.266667\n",
       "50%         52.016667\n",
       "75%        298.858333\n",
       "max      10727.466667\n",
       "Name: average_trips, dtype: float64"
      ]
     },
     "execution_count": 15,
     "metadata": {},
     "output_type": "execute_result"
    }
   ],
   "source": [
    "dropoff_trips['average_trips'].describe()"
   ]
  },
  {
   "cell_type": "markdown",
   "metadata": {},
   "source": [
    "Se registran 94 valores únicos que coinciden con el número total de filas de nuestro dataset, en promedio se registran 599 viajes por barrio en términos de finalización. La media 599.95 es mayor a la mediana de 52.01 por lo que nuestros datos presentan una asimetría positiva con un sesgo hacia la derecha de nuestros datos, esto se evidencia con la alta desviación estándar de 1714,59."
   ]
  },
  {
   "cell_type": "markdown",
   "metadata": {},
   "source": [
    "#### Dataset `weather_trips`\n",
    "\n",
    "Apliquemos `shape`, `head`, `tail` e `info` a nuestro dataset `weather_trips`."
   ]
  },
  {
   "cell_type": "code",
   "execution_count": 16,
   "metadata": {},
   "outputs": [
    {
     "data": {
      "text/plain": [
       "(1068, 3)"
      ]
     },
     "execution_count": 16,
     "metadata": {},
     "output_type": "execute_result"
    }
   ],
   "source": [
    "weather_trips.shape"
   ]
  },
  {
   "cell_type": "code",
   "execution_count": 17,
   "metadata": {},
   "outputs": [
    {
     "data": {
      "text/html": [
       "<div>\n",
       "<style scoped>\n",
       "    .dataframe tbody tr th:only-of-type {\n",
       "        vertical-align: middle;\n",
       "    }\n",
       "\n",
       "    .dataframe tbody tr th {\n",
       "        vertical-align: top;\n",
       "    }\n",
       "\n",
       "    .dataframe thead th {\n",
       "        text-align: right;\n",
       "    }\n",
       "</style>\n",
       "<table border=\"1\" class=\"dataframe\">\n",
       "  <thead>\n",
       "    <tr style=\"text-align: right;\">\n",
       "      <th></th>\n",
       "      <th>start_ts</th>\n",
       "      <th>weather_conditions</th>\n",
       "      <th>duration_seconds</th>\n",
       "    </tr>\n",
       "  </thead>\n",
       "  <tbody>\n",
       "    <tr>\n",
       "      <th>0</th>\n",
       "      <td>2017-11-25 16:00:00</td>\n",
       "      <td>Good</td>\n",
       "      <td>2410.0</td>\n",
       "    </tr>\n",
       "    <tr>\n",
       "      <th>1</th>\n",
       "      <td>2017-11-25 14:00:00</td>\n",
       "      <td>Good</td>\n",
       "      <td>1920.0</td>\n",
       "    </tr>\n",
       "    <tr>\n",
       "      <th>2</th>\n",
       "      <td>2017-11-25 12:00:00</td>\n",
       "      <td>Good</td>\n",
       "      <td>1543.0</td>\n",
       "    </tr>\n",
       "    <tr>\n",
       "      <th>3</th>\n",
       "      <td>2017-11-04 10:00:00</td>\n",
       "      <td>Good</td>\n",
       "      <td>2512.0</td>\n",
       "    </tr>\n",
       "    <tr>\n",
       "      <th>4</th>\n",
       "      <td>2017-11-11 07:00:00</td>\n",
       "      <td>Good</td>\n",
       "      <td>1440.0</td>\n",
       "    </tr>\n",
       "  </tbody>\n",
       "</table>\n",
       "</div>"
      ],
      "text/plain": [
       "              start_ts weather_conditions  duration_seconds\n",
       "0  2017-11-25 16:00:00               Good            2410.0\n",
       "1  2017-11-25 14:00:00               Good            1920.0\n",
       "2  2017-11-25 12:00:00               Good            1543.0\n",
       "3  2017-11-04 10:00:00               Good            2512.0\n",
       "4  2017-11-11 07:00:00               Good            1440.0"
      ]
     },
     "execution_count": 17,
     "metadata": {},
     "output_type": "execute_result"
    }
   ],
   "source": [
    "weather_trips.head()"
   ]
  },
  {
   "cell_type": "code",
   "execution_count": 18,
   "metadata": {},
   "outputs": [
    {
     "data": {
      "text/html": [
       "<div>\n",
       "<style scoped>\n",
       "    .dataframe tbody tr th:only-of-type {\n",
       "        vertical-align: middle;\n",
       "    }\n",
       "\n",
       "    .dataframe tbody tr th {\n",
       "        vertical-align: top;\n",
       "    }\n",
       "\n",
       "    .dataframe thead th {\n",
       "        text-align: right;\n",
       "    }\n",
       "</style>\n",
       "<table border=\"1\" class=\"dataframe\">\n",
       "  <thead>\n",
       "    <tr style=\"text-align: right;\">\n",
       "      <th></th>\n",
       "      <th>start_ts</th>\n",
       "      <th>weather_conditions</th>\n",
       "      <th>duration_seconds</th>\n",
       "    </tr>\n",
       "  </thead>\n",
       "  <tbody>\n",
       "    <tr>\n",
       "      <th>1063</th>\n",
       "      <td>2017-11-25 11:00:00</td>\n",
       "      <td>Good</td>\n",
       "      <td>0.0</td>\n",
       "    </tr>\n",
       "    <tr>\n",
       "      <th>1064</th>\n",
       "      <td>2017-11-11 10:00:00</td>\n",
       "      <td>Good</td>\n",
       "      <td>1318.0</td>\n",
       "    </tr>\n",
       "    <tr>\n",
       "      <th>1065</th>\n",
       "      <td>2017-11-11 13:00:00</td>\n",
       "      <td>Good</td>\n",
       "      <td>2100.0</td>\n",
       "    </tr>\n",
       "    <tr>\n",
       "      <th>1066</th>\n",
       "      <td>2017-11-11 08:00:00</td>\n",
       "      <td>Good</td>\n",
       "      <td>1380.0</td>\n",
       "    </tr>\n",
       "    <tr>\n",
       "      <th>1067</th>\n",
       "      <td>2017-11-04 16:00:00</td>\n",
       "      <td>Bad</td>\n",
       "      <td>2834.0</td>\n",
       "    </tr>\n",
       "  </tbody>\n",
       "</table>\n",
       "</div>"
      ],
      "text/plain": [
       "                 start_ts weather_conditions  duration_seconds\n",
       "1063  2017-11-25 11:00:00               Good               0.0\n",
       "1064  2017-11-11 10:00:00               Good            1318.0\n",
       "1065  2017-11-11 13:00:00               Good            2100.0\n",
       "1066  2017-11-11 08:00:00               Good            1380.0\n",
       "1067  2017-11-04 16:00:00                Bad            2834.0"
      ]
     },
     "execution_count": 18,
     "metadata": {},
     "output_type": "execute_result"
    }
   ],
   "source": [
    "weather_trips.tail()"
   ]
  },
  {
   "cell_type": "code",
   "execution_count": 19,
   "metadata": {},
   "outputs": [
    {
     "name": "stdout",
     "output_type": "stream",
     "text": [
      "<class 'pandas.core.frame.DataFrame'>\n",
      "RangeIndex: 1068 entries, 0 to 1067\n",
      "Data columns (total 3 columns):\n",
      " #   Column              Non-Null Count  Dtype  \n",
      "---  ------              --------------  -----  \n",
      " 0   start_ts            1068 non-null   object \n",
      " 1   weather_conditions  1068 non-null   object \n",
      " 2   duration_seconds    1068 non-null   float64\n",
      "dtypes: float64(1), object(2)\n",
      "memory usage: 25.2+ KB\n"
     ]
    }
   ],
   "source": [
    "weather_trips.info()"
   ]
  },
  {
   "cell_type": "markdown",
   "metadata": {},
   "source": [
    "En nuestro dataset `weather_trips` se registran 1068 filas y tres columnas, las cuales presentan los siguientes datos:\n",
    "\n",
    "- `start_ts:`fecha y hora de la recogida\n",
    "- `weather_conditions:`condiciones climáticas en el momento en el que comenzó el viaje\n",
    "- `duration_seconds:` duración del viaje en segundos \n",
    "\n",
    "Cada fila corresponde a la fecha de viajes realizados desde el Loop hasta el Aeropuerto Internacional O'Hare los días sábados de noviembre de 2017. El tipo de objeto para la fecha y hora de recogida se registra como tipo objeto, lo cual no es correcto ya que se debería encontrar como tipo datetime. En la columna `weather_conditions` nos encontramos con tipo de datos objeto y `duration_seconds` con datos tipo float, los cuales son los correctos. No se registran valores ausentes en este dataset. \n",
    "\n",
    "Ahora analicemos los valores de la columna `duration_seconds` para esto apliquemos el método describe. También analizaremos los valores únicos de las columnas `start_ts` y `weather_conditions`. "
   ]
  },
  {
   "cell_type": "code",
   "execution_count": 20,
   "metadata": {},
   "outputs": [
    {
     "data": {
      "text/plain": [
       "count    1068.000000\n",
       "mean     2071.731273\n",
       "std       769.461125\n",
       "min         0.000000\n",
       "25%      1438.250000\n",
       "50%      1980.000000\n",
       "75%      2580.000000\n",
       "max      7440.000000\n",
       "Name: duration_seconds, dtype: float64"
      ]
     },
     "execution_count": 20,
     "metadata": {},
     "output_type": "execute_result"
    }
   ],
   "source": [
    "weather_trips['duration_seconds'].describe()"
   ]
  },
  {
   "cell_type": "markdown",
   "metadata": {},
   "source": [
    "El promedio de duración de viajes es de 2071.73 segundos con una mediana de 1098, lo que indica una asimetría positiva con un sesgo hacia la derecha de nuestro datos, la desviación estándar registrada es de 769,46. El valor mínimo de duración de viajes es de cero segundos, mientras que el valor máximo registrado fue de 7440 segundos."
   ]
  },
  {
   "cell_type": "code",
   "execution_count": 21,
   "metadata": {},
   "outputs": [
    {
     "name": "stdout",
     "output_type": "stream",
     "text": [
      "2017-11-11 10:00:00    48\n",
      "2017-11-04 12:00:00    46\n",
      "2017-11-04 14:00:00    46\n",
      "2017-11-11 06:00:00    45\n",
      "2017-11-11 08:00:00    43\n",
      "                       ..\n",
      "2017-11-25 04:00:00     1\n",
      "2017-11-04 02:00:00     1\n",
      "2017-11-18 21:00:00     1\n",
      "2017-11-04 00:00:00     1\n",
      "2017-11-11 23:00:00     1\n",
      "Name: start_ts, Length: 81, dtype: int64\n",
      "Good    888\n",
      "Bad     180\n",
      "Name: weather_conditions, dtype: int64\n"
     ]
    }
   ],
   "source": [
    "categorical_columns = ['start_ts', 'weather_conditions']\n",
    "for column in categorical_columns:\n",
    "    print(weather_trips[column].value_counts())"
   ]
  },
  {
   "cell_type": "markdown",
   "metadata": {},
   "source": [
    "Se registran 80 valores únicos de fechas y horas en el dataset, y en el caso de las condiciones climáticas nos encontramos con dos categorías `Good` y `Bad`, estas fueron creadas anteriormente para clasificar el clima, es así que Bad hace referencia a días lluviosos o con tormentas, mientras que Good se relaciona con las demás condiciones del clima. "
   ]
  },
  {
   "cell_type": "markdown",
   "metadata": {},
   "source": [
    "### Conclusiones\n",
    "\n",
    "1. En el dataset `company_trips` no se registraron valores ausentes o duplicados, y el tipo de datos es el correctos para las dos variables presentes. Así que no se necesitará realizar cambios. \n",
    "2. En el dataset `dropoff_trips` no se registraron valores ausentes, y la columna `average_trips` se encuentra en tipo float, la cual va a necesitar ser transformada a tipo entero y redondeada.\n",
    "3. En el dataset `weather_trips` no se registraron valores ausentes, el único error registrado fue el tipo de dato de la columna `start_ts` que se presenta como tipo objeto, cuando lo correcto sería que se encuentre como tipo datetime. También se registran valores de duración de viajes de cero segundos, los cuales van a necesitar ser analizados más a fondo antes de realizar la prueba de hipótesis. \n"
   ]
  },
  {
   "cell_type": "markdown",
   "metadata": {},
   "source": [
    "## Preprocesamiento de datos\n",
    "\n",
    "### Corregir datos del dataset `dropoff_trips`\n",
    "\n",
    "En el dataset `dropoff_trips` se registró valores promedio de viajes por barrio de tipo float, lo mejor será redondear estos valores y transformarlos a tipo entero. Para esto utilizaremos el método round() y astype(). "
   ]
  },
  {
   "cell_type": "code",
   "execution_count": 22,
   "metadata": {},
   "outputs": [],
   "source": [
    "dropoff_trips['average_trips'] = dropoff_trips['average_trips'].round().astype('int')"
   ]
  },
  {
   "cell_type": "markdown",
   "metadata": {},
   "source": [
    "Comprobamos que los valores promedios de viajes hayan sido correctamente redondeados y transformados a entero llamando al método `head` e `info`. "
   ]
  },
  {
   "cell_type": "code",
   "execution_count": 23,
   "metadata": {},
   "outputs": [
    {
     "data": {
      "text/html": [
       "<div>\n",
       "<style scoped>\n",
       "    .dataframe tbody tr th:only-of-type {\n",
       "        vertical-align: middle;\n",
       "    }\n",
       "\n",
       "    .dataframe tbody tr th {\n",
       "        vertical-align: top;\n",
       "    }\n",
       "\n",
       "    .dataframe thead th {\n",
       "        text-align: right;\n",
       "    }\n",
       "</style>\n",
       "<table border=\"1\" class=\"dataframe\">\n",
       "  <thead>\n",
       "    <tr style=\"text-align: right;\">\n",
       "      <th></th>\n",
       "      <th>dropoff_location_name</th>\n",
       "      <th>average_trips</th>\n",
       "    </tr>\n",
       "  </thead>\n",
       "  <tbody>\n",
       "    <tr>\n",
       "      <th>0</th>\n",
       "      <td>Loop</td>\n",
       "      <td>10727</td>\n",
       "    </tr>\n",
       "    <tr>\n",
       "      <th>1</th>\n",
       "      <td>River North</td>\n",
       "      <td>9524</td>\n",
       "    </tr>\n",
       "    <tr>\n",
       "      <th>2</th>\n",
       "      <td>Streeterville</td>\n",
       "      <td>6665</td>\n",
       "    </tr>\n",
       "    <tr>\n",
       "      <th>3</th>\n",
       "      <td>West Loop</td>\n",
       "      <td>5164</td>\n",
       "    </tr>\n",
       "    <tr>\n",
       "      <th>4</th>\n",
       "      <td>O'Hare</td>\n",
       "      <td>2547</td>\n",
       "    </tr>\n",
       "  </tbody>\n",
       "</table>\n",
       "</div>"
      ],
      "text/plain": [
       "  dropoff_location_name  average_trips\n",
       "0                  Loop          10727\n",
       "1           River North           9524\n",
       "2         Streeterville           6665\n",
       "3             West Loop           5164\n",
       "4                O'Hare           2547"
      ]
     },
     "execution_count": 23,
     "metadata": {},
     "output_type": "execute_result"
    }
   ],
   "source": [
    "dropoff_trips.head()"
   ]
  },
  {
   "cell_type": "code",
   "execution_count": 24,
   "metadata": {},
   "outputs": [
    {
     "name": "stdout",
     "output_type": "stream",
     "text": [
      "<class 'pandas.core.frame.DataFrame'>\n",
      "RangeIndex: 94 entries, 0 to 93\n",
      "Data columns (total 2 columns):\n",
      " #   Column                 Non-Null Count  Dtype \n",
      "---  ------                 --------------  ----- \n",
      " 0   dropoff_location_name  94 non-null     object\n",
      " 1   average_trips          94 non-null     int64 \n",
      "dtypes: int64(1), object(1)\n",
      "memory usage: 1.6+ KB\n"
     ]
    }
   ],
   "source": [
    "dropoff_trips.info()"
   ]
  },
  {
   "cell_type": "markdown",
   "metadata": {},
   "source": [
    "Al llamar al método head podemos observar que los promedios han sido correctamente redondeados, y con info corroboramos que los datos ahora son de tipo entero. Finalicemos verificando que no existan valores duplicados. "
   ]
  },
  {
   "cell_type": "code",
   "execution_count": 25,
   "metadata": {},
   "outputs": [
    {
     "data": {
      "text/plain": [
       "0"
      ]
     },
     "execution_count": 25,
     "metadata": {},
     "output_type": "execute_result"
    }
   ],
   "source": [
    "dropoff_trips.duplicated().sum()"
   ]
  },
  {
   "cell_type": "markdown",
   "metadata": {},
   "source": [
    "### Corregir datos del dataset `weather_trips`\n",
    "\n",
    "En el dataset `weather_trips` se registraron valores de fecha y hora en formato objeto, siendo lo correcto que se presenten como tipo datetime. Así que aplicaremos la función to_datetime a la columna `start_ts`."
   ]
  },
  {
   "cell_type": "code",
   "execution_count": 26,
   "metadata": {},
   "outputs": [],
   "source": [
    "weather_trips['start_ts'] = pd.to_datetime(weather_trips['start_ts'], format='%Y-%m-%d %H:%M:%S')"
   ]
  },
  {
   "cell_type": "code",
   "execution_count": 27,
   "metadata": {},
   "outputs": [
    {
     "name": "stdout",
     "output_type": "stream",
     "text": [
      "datetime64[ns]\n"
     ]
    }
   ],
   "source": [
    "print(weather_trips['start_ts'].dtypes)"
   ]
  },
  {
   "cell_type": "markdown",
   "metadata": {},
   "source": [
    "Se comprueba que los valores han sido correctamente transformados a tipo entero al llamar al atributo dtypes. Ahora vamos a revisar los valores duplicados y aquellos viajes de duración cero. "
   ]
  },
  {
   "cell_type": "code",
   "execution_count": 28,
   "metadata": {},
   "outputs": [
    {
     "data": {
      "text/plain": [
       "197"
      ]
     },
     "execution_count": 28,
     "metadata": {},
     "output_type": "execute_result"
    }
   ],
   "source": [
    "weather_trips.duplicated().sum()"
   ]
  },
  {
   "cell_type": "markdown",
   "metadata": {},
   "source": [
    "Se registran 197 valores duplicados que corresponden al 18% del dataset, así que antes de eliminarlos vamos a analizar si estos valores corresponden a duplicados o existe alguna razón que justifique la presencia de estos valores. Filtremos nuestros valores duplicados y analicemos los viajes que duraron 1260 segundos en 11 de noviembre de 2017 a las 6 de la mañana."
   ]
  },
  {
   "cell_type": "code",
   "execution_count": 29,
   "metadata": {},
   "outputs": [
    {
     "data": {
      "text/html": [
       "<div>\n",
       "<style scoped>\n",
       "    .dataframe tbody tr th:only-of-type {\n",
       "        vertical-align: middle;\n",
       "    }\n",
       "\n",
       "    .dataframe tbody tr th {\n",
       "        vertical-align: top;\n",
       "    }\n",
       "\n",
       "    .dataframe thead th {\n",
       "        text-align: right;\n",
       "    }\n",
       "</style>\n",
       "<table border=\"1\" class=\"dataframe\">\n",
       "  <thead>\n",
       "    <tr style=\"text-align: right;\">\n",
       "      <th></th>\n",
       "      <th>start_ts</th>\n",
       "      <th>weather_conditions</th>\n",
       "      <th>duration_seconds</th>\n",
       "    </tr>\n",
       "  </thead>\n",
       "  <tbody>\n",
       "    <tr>\n",
       "      <th>62</th>\n",
       "      <td>2017-11-11 06:00:00</td>\n",
       "      <td>Good</td>\n",
       "      <td>1260.0</td>\n",
       "    </tr>\n",
       "    <tr>\n",
       "      <th>74</th>\n",
       "      <td>2017-11-11 08:00:00</td>\n",
       "      <td>Good</td>\n",
       "      <td>1380.0</td>\n",
       "    </tr>\n",
       "    <tr>\n",
       "      <th>76</th>\n",
       "      <td>2017-11-04 09:00:00</td>\n",
       "      <td>Good</td>\n",
       "      <td>1380.0</td>\n",
       "    </tr>\n",
       "    <tr>\n",
       "      <th>117</th>\n",
       "      <td>2017-11-11 07:00:00</td>\n",
       "      <td>Good</td>\n",
       "      <td>1380.0</td>\n",
       "    </tr>\n",
       "    <tr>\n",
       "      <th>119</th>\n",
       "      <td>2017-11-04 14:00:00</td>\n",
       "      <td>Good</td>\n",
       "      <td>3300.0</td>\n",
       "    </tr>\n",
       "  </tbody>\n",
       "</table>\n",
       "</div>"
      ],
      "text/plain": [
       "               start_ts weather_conditions  duration_seconds\n",
       "62  2017-11-11 06:00:00               Good            1260.0\n",
       "74  2017-11-11 08:00:00               Good            1380.0\n",
       "76  2017-11-04 09:00:00               Good            1380.0\n",
       "117 2017-11-11 07:00:00               Good            1380.0\n",
       "119 2017-11-04 14:00:00               Good            3300.0"
      ]
     },
     "execution_count": 29,
     "metadata": {},
     "output_type": "execute_result"
    }
   ],
   "source": [
    "weather_trips[weather_trips.duplicated()].head()"
   ]
  },
  {
   "cell_type": "code",
   "execution_count": 30,
   "metadata": {},
   "outputs": [
    {
     "data": {
      "text/html": [
       "<div>\n",
       "<style scoped>\n",
       "    .dataframe tbody tr th:only-of-type {\n",
       "        vertical-align: middle;\n",
       "    }\n",
       "\n",
       "    .dataframe tbody tr th {\n",
       "        vertical-align: top;\n",
       "    }\n",
       "\n",
       "    .dataframe thead th {\n",
       "        text-align: right;\n",
       "    }\n",
       "</style>\n",
       "<table border=\"1\" class=\"dataframe\">\n",
       "  <thead>\n",
       "    <tr style=\"text-align: right;\">\n",
       "      <th></th>\n",
       "      <th>start_ts</th>\n",
       "      <th>weather_conditions</th>\n",
       "      <th>duration_seconds</th>\n",
       "    </tr>\n",
       "  </thead>\n",
       "  <tbody>\n",
       "    <tr>\n",
       "      <th>43</th>\n",
       "      <td>2017-11-11 06:00:00</td>\n",
       "      <td>Good</td>\n",
       "      <td>1260.0</td>\n",
       "    </tr>\n",
       "    <tr>\n",
       "      <th>62</th>\n",
       "      <td>2017-11-11 06:00:00</td>\n",
       "      <td>Good</td>\n",
       "      <td>1260.0</td>\n",
       "    </tr>\n",
       "    <tr>\n",
       "      <th>179</th>\n",
       "      <td>2017-11-11 06:00:00</td>\n",
       "      <td>Good</td>\n",
       "      <td>1260.0</td>\n",
       "    </tr>\n",
       "    <tr>\n",
       "      <th>250</th>\n",
       "      <td>2017-11-11 06:00:00</td>\n",
       "      <td>Good</td>\n",
       "      <td>1260.0</td>\n",
       "    </tr>\n",
       "    <tr>\n",
       "      <th>333</th>\n",
       "      <td>2017-11-11 06:00:00</td>\n",
       "      <td>Good</td>\n",
       "      <td>1260.0</td>\n",
       "    </tr>\n",
       "    <tr>\n",
       "      <th>343</th>\n",
       "      <td>2017-11-11 06:00:00</td>\n",
       "      <td>Good</td>\n",
       "      <td>1260.0</td>\n",
       "    </tr>\n",
       "    <tr>\n",
       "      <th>725</th>\n",
       "      <td>2017-11-11 06:00:00</td>\n",
       "      <td>Good</td>\n",
       "      <td>1260.0</td>\n",
       "    </tr>\n",
       "    <tr>\n",
       "      <th>948</th>\n",
       "      <td>2017-11-11 06:00:00</td>\n",
       "      <td>Good</td>\n",
       "      <td>1260.0</td>\n",
       "    </tr>\n",
       "  </tbody>\n",
       "</table>\n",
       "</div>"
      ],
      "text/plain": [
       "               start_ts weather_conditions  duration_seconds\n",
       "43  2017-11-11 06:00:00               Good            1260.0\n",
       "62  2017-11-11 06:00:00               Good            1260.0\n",
       "179 2017-11-11 06:00:00               Good            1260.0\n",
       "250 2017-11-11 06:00:00               Good            1260.0\n",
       "333 2017-11-11 06:00:00               Good            1260.0\n",
       "343 2017-11-11 06:00:00               Good            1260.0\n",
       "725 2017-11-11 06:00:00               Good            1260.0\n",
       "948 2017-11-11 06:00:00               Good            1260.0"
      ]
     },
     "execution_count": 30,
     "metadata": {},
     "output_type": "execute_result"
    }
   ],
   "source": [
    "weather_trips.query('start_ts == \"2017-11-11 06:00:00\" & weather_conditions == \"Good\" & duration_seconds == 1260')"
   ]
  },
  {
   "cell_type": "markdown",
   "metadata": {},
   "source": [
    "Al filtrar los valores duplicados y luego analizar los viajes de 1260 segundos el 11 de noviembre de 2017 a las seis de la mañana, podemos establecer que existe la probabilidad que algunos taxis tomaron rutas similares y demoraron tiempos similares en salir del barrio Loop y llegar al Aeropuerto de O'Hare. Puede tratarse de taxis de compañías diferentes que salieron alrederor de las seis de la mañana, recordemos que el valor de hora ha sido redondeado. Considerando todo esto, decidimos mantener los valores duplicados de nuestro dataset `weather_trips`.\n",
    "\n",
    "Finalmente, se registraron viajes de una duración de cero segundos, así que analizaremos más a fondo estos valores a través de un query a la columna `duration_seconds`"
   ]
  },
  {
   "cell_type": "code",
   "execution_count": 31,
   "metadata": {},
   "outputs": [
    {
     "data": {
      "text/html": [
       "<div>\n",
       "<style scoped>\n",
       "    .dataframe tbody tr th:only-of-type {\n",
       "        vertical-align: middle;\n",
       "    }\n",
       "\n",
       "    .dataframe tbody tr th {\n",
       "        vertical-align: top;\n",
       "    }\n",
       "\n",
       "    .dataframe thead th {\n",
       "        text-align: right;\n",
       "    }\n",
       "</style>\n",
       "<table border=\"1\" class=\"dataframe\">\n",
       "  <thead>\n",
       "    <tr style=\"text-align: right;\">\n",
       "      <th></th>\n",
       "      <th>start_ts</th>\n",
       "      <th>weather_conditions</th>\n",
       "      <th>duration_seconds</th>\n",
       "    </tr>\n",
       "  </thead>\n",
       "  <tbody>\n",
       "    <tr>\n",
       "      <th>163</th>\n",
       "      <td>2017-11-11 09:00:00</td>\n",
       "      <td>Good</td>\n",
       "      <td>0.0</td>\n",
       "    </tr>\n",
       "    <tr>\n",
       "      <th>168</th>\n",
       "      <td>2017-11-11 07:00:00</td>\n",
       "      <td>Good</td>\n",
       "      <td>0.0</td>\n",
       "    </tr>\n",
       "    <tr>\n",
       "      <th>204</th>\n",
       "      <td>2017-11-18 19:00:00</td>\n",
       "      <td>Good</td>\n",
       "      <td>0.0</td>\n",
       "    </tr>\n",
       "    <tr>\n",
       "      <th>552</th>\n",
       "      <td>2017-11-04 01:00:00</td>\n",
       "      <td>Good</td>\n",
       "      <td>0.0</td>\n",
       "    </tr>\n",
       "    <tr>\n",
       "      <th>801</th>\n",
       "      <td>2017-11-04 09:00:00</td>\n",
       "      <td>Good</td>\n",
       "      <td>0.0</td>\n",
       "    </tr>\n",
       "    <tr>\n",
       "      <th>1063</th>\n",
       "      <td>2017-11-25 11:00:00</td>\n",
       "      <td>Good</td>\n",
       "      <td>0.0</td>\n",
       "    </tr>\n",
       "  </tbody>\n",
       "</table>\n",
       "</div>"
      ],
      "text/plain": [
       "                start_ts weather_conditions  duration_seconds\n",
       "163  2017-11-11 09:00:00               Good               0.0\n",
       "168  2017-11-11 07:00:00               Good               0.0\n",
       "204  2017-11-18 19:00:00               Good               0.0\n",
       "552  2017-11-04 01:00:00               Good               0.0\n",
       "801  2017-11-04 09:00:00               Good               0.0\n",
       "1063 2017-11-25 11:00:00               Good               0.0"
      ]
     },
     "execution_count": 31,
     "metadata": {},
     "output_type": "execute_result"
    }
   ],
   "source": [
    "weather_trips.query('duration_seconds == 0')"
   ]
  },
  {
   "cell_type": "markdown",
   "metadata": {},
   "source": [
    "Se registran seis viajes de duración de cero segundos, lo cual es poco o nada probable. Quizás fueron viajes cancelados a último momento. Así que vamos a eliminar estos valores, filtramos nuestro dataset por aquellos valores de duración diferentes a cero y guardaremos estos cambios en nuestro dataset `weather_trips`."
   ]
  },
  {
   "cell_type": "code",
   "execution_count": 32,
   "metadata": {},
   "outputs": [],
   "source": [
    "weather_trips = weather_trips.query('duration_seconds != 0')"
   ]
  },
  {
   "cell_type": "code",
   "execution_count": 33,
   "metadata": {},
   "outputs": [
    {
     "name": "stdout",
     "output_type": "stream",
     "text": [
      "<class 'pandas.core.frame.DataFrame'>\n",
      "Int64Index: 1062 entries, 0 to 1067\n",
      "Data columns (total 3 columns):\n",
      " #   Column              Non-Null Count  Dtype         \n",
      "---  ------              --------------  -----         \n",
      " 0   start_ts            1062 non-null   datetime64[ns]\n",
      " 1   weather_conditions  1062 non-null   object        \n",
      " 2   duration_seconds    1062 non-null   float64       \n",
      "dtypes: datetime64[ns](1), float64(1), object(1)\n",
      "memory usage: 33.2+ KB\n"
     ]
    }
   ],
   "source": [
    "weather_trips.info()"
   ]
  },
  {
   "cell_type": "markdown",
   "metadata": {},
   "source": [
    "Nuestro dataset `weather_trips` ahora cuenta con 1062 filas, ya que decidimos eliminar los valores de viajes con duración de cero segundos. Se decidió mantener los valores duplicados que podrían estar relacionados con viajes realizados alrededor de la misma hora por taxis de diferentes compañías. Se corrigió el tipo de dato de la columna `start_ds` que ahora se registra como tipo datetime. \n",
    "\n",
    "### Conclusiones\n",
    "\n",
    "1. En el dataset `dropoff_trips` se registraron valores de tipo float para el promedio de duración de viajes por barrio de finalización, estos valors fueron redondeados y transformados a tipo entero.\n",
    "2. En el dataset `weather_trips` se registraron valores de tipo objecto para la fecha de inicio del viaje, la cual fue transformada a tipo datetime. Se decidió mantener los valores duplicados ya que pueden ser viajes realizados por varios taxis de diferentes compañías o incluso de la misma compañía. El barrio Loop en Chicago es un barrio altamente turístico por lo que existe la probabilidad de que varios viajes se realizaron el mismo día, hora o tomaron una misma ruta, considerando que la hora fue redondeada. Finalmente, se decidió eliminar los valores de viajes con duración de cero segundo, ya que representaban solo seis valores y pueden estar relacionados con viajes cancelados."
   ]
  },
  {
   "cell_type": "markdown",
   "metadata": {},
   "source": [
    "## Análisis exploratorio de datos\n",
    "\n",
    "### Número de viajes por compañía de taxis\n",
    "\n",
    "Vamos a establecer las compañías de taxis con el mayor número de viajes, considerando que se registran 64 compañías de taxis, lo mejor será trabajar solo con aquellas compañías que realizaron más de 1000 viajes el 15 y 16 de noviembre de 2017.\n",
    "\n",
    "Crearemos la variable `company_less_1000` que guardará a aquellas compañías de taxis que realizan menos de 1000 viajes, para esto utilizaremos un query en la columna `trips_amount` del dataset `company_trips`."
   ]
  },
  {
   "cell_type": "code",
   "execution_count": 34,
   "metadata": {},
   "outputs": [
    {
     "data": {
      "text/html": [
       "<div>\n",
       "<style scoped>\n",
       "    .dataframe tbody tr th:only-of-type {\n",
       "        vertical-align: middle;\n",
       "    }\n",
       "\n",
       "    .dataframe tbody tr th {\n",
       "        vertical-align: top;\n",
       "    }\n",
       "\n",
       "    .dataframe thead th {\n",
       "        text-align: right;\n",
       "    }\n",
       "</style>\n",
       "<table border=\"1\" class=\"dataframe\">\n",
       "  <thead>\n",
       "    <tr style=\"text-align: right;\">\n",
       "      <th></th>\n",
       "      <th>company_name</th>\n",
       "      <th>trips_amount</th>\n",
       "    </tr>\n",
       "  </thead>\n",
       "  <tbody>\n",
       "    <tr>\n",
       "      <th>25</th>\n",
       "      <td>Top Cab Affiliation</td>\n",
       "      <td>978</td>\n",
       "    </tr>\n",
       "    <tr>\n",
       "      <th>26</th>\n",
       "      <td>Gold Coast Taxi</td>\n",
       "      <td>428</td>\n",
       "    </tr>\n",
       "    <tr>\n",
       "      <th>27</th>\n",
       "      <td>Service Taxi Association</td>\n",
       "      <td>402</td>\n",
       "    </tr>\n",
       "    <tr>\n",
       "      <th>28</th>\n",
       "      <td>5 Star Taxi</td>\n",
       "      <td>310</td>\n",
       "    </tr>\n",
       "    <tr>\n",
       "      <th>29</th>\n",
       "      <td>303 Taxi</td>\n",
       "      <td>250</td>\n",
       "    </tr>\n",
       "  </tbody>\n",
       "</table>\n",
       "</div>"
      ],
      "text/plain": [
       "                company_name  trips_amount\n",
       "25       Top Cab Affiliation           978\n",
       "26           Gold Coast Taxi           428\n",
       "27  Service Taxi Association           402\n",
       "28               5 Star Taxi           310\n",
       "29                  303 Taxi           250"
      ]
     },
     "execution_count": 34,
     "metadata": {},
     "output_type": "execute_result"
    }
   ],
   "source": [
    "company_less_1000 = company_trips.query('trips_amount < 1000')\n",
    "company_less_1000.head()"
   ]
  },
  {
   "cell_type": "code",
   "execution_count": 35,
   "metadata": {},
   "outputs": [
    {
     "name": "stdout",
     "output_type": "stream",
     "text": [
      "Número de compañías de taxis con menos de 1000 viajes: 39\n"
     ]
    }
   ],
   "source": [
    "print(f'Número de compañías de taxis con menos de 1000 viajes:', len(company_less_1000['company_name'].unique()))"
   ]
  },
  {
   "cell_type": "markdown",
   "metadata": {},
   "source": [
    "Al aplicar len a nuestro dataset `company_less_1000` se han registrado 39 empresas con menos de 1000 viajes en noviembre de 2017. Vamos a crear una nueva categoría para estas empresas la cual será Less Than 1000 Trips. Para esto empezamos filtrando aquellas compañías con más de 1000 viajes y guardando estos datos en la variable `company_more_1000`, luego aplicamos el método unique a esta variable y guardamos los nombres únicos de las empresas en la variable `names`."
   ]
  },
  {
   "cell_type": "code",
   "execution_count": 36,
   "metadata": {},
   "outputs": [
    {
     "data": {
      "text/plain": [
       "array(['Flash Cab', 'Taxi Affiliation Services', 'Medallion Leasing',\n",
       "       'Yellow Cab', 'Taxi Affiliation Service Yellow',\n",
       "       'Chicago Carriage Cab Corp', 'City Service', 'Sun Taxi',\n",
       "       'Star North Management LLC', 'Blue Ribbon Taxi Association Inc.',\n",
       "       'Choice Taxi Association', 'Globe Taxi',\n",
       "       'Dispatch Taxi Affiliation', 'Nova Taxi Affiliation Llc',\n",
       "       'Patriot Taxi Dba Peace Taxi Association',\n",
       "       'Checker Taxi Affiliation', 'Blue Diamond',\n",
       "       'Chicago Medallion Management', '24 Seven Taxi',\n",
       "       'Chicago Medallion Leasing INC', 'Checker Taxi', 'American United',\n",
       "       'Chicago Independents', 'KOAM Taxi Association', 'Chicago Taxicab'],\n",
       "      dtype=object)"
      ]
     },
     "execution_count": 36,
     "metadata": {},
     "output_type": "execute_result"
    }
   ],
   "source": [
    "company_more_1000 = company_trips.query('trips_amount > 1000')\n",
    "names = company_more_1000['company_name'].unique()\n",
    "names"
   ]
  },
  {
   "cell_type": "markdown",
   "metadata": {},
   "source": [
    "Para reemplazar los nombres de las compañías con menos de 1000 viajes por la nueva categoría Less Than 1000 Trips, vamos a aplicar la función where, que cambiará los nombres de las compañías de taxis si es falso que el nombre se encuentra en la lista de valores únicos `names`. Comprobamos que la función where haya trabajado correctamente llamando al método unique en la columna `company_name` que debería registrar 25 empresas de taxis más la nueva categoría Less Than 1000 trips."
   ]
  },
  {
   "cell_type": "code",
   "execution_count": 37,
   "metadata": {},
   "outputs": [],
   "source": [
    "company_trips['company_name'] = (company_trips['company_name']\n",
    "                                 .where(company_trips['company_name'].isin(names),\n",
    "                                 'Less than 1000 trips'))"
   ]
  },
  {
   "cell_type": "code",
   "execution_count": 38,
   "metadata": {},
   "outputs": [
    {
     "data": {
      "text/plain": [
       "26"
      ]
     },
     "execution_count": 38,
     "metadata": {},
     "output_type": "execute_result"
    }
   ],
   "source": [
    "len(company_trips['company_name'].unique())"
   ]
  },
  {
   "cell_type": "markdown",
   "metadata": {},
   "source": [
    "Finalizamos creando una tabla dinámica `company_trips_grouped` que agrupe los nombres de las compañías por el número de viajes, de esta manera obtendremos los valores de viajes totales para las 39 empresas que registraron menos de 1000 viajes. A partir de esta tabla realizaremos un gráfico de barras que nos indique visualmente cuáles fueron las principales empresas de acuerdo al número de viajes. "
   ]
  },
  {
   "cell_type": "code",
   "execution_count": 39,
   "metadata": {},
   "outputs": [
    {
     "data": {
      "text/html": [
       "<div>\n",
       "<style scoped>\n",
       "    .dataframe tbody tr th:only-of-type {\n",
       "        vertical-align: middle;\n",
       "    }\n",
       "\n",
       "    .dataframe tbody tr th {\n",
       "        vertical-align: top;\n",
       "    }\n",
       "\n",
       "    .dataframe thead th {\n",
       "        text-align: right;\n",
       "    }\n",
       "</style>\n",
       "<table border=\"1\" class=\"dataframe\">\n",
       "  <thead>\n",
       "    <tr style=\"text-align: right;\">\n",
       "      <th></th>\n",
       "      <th>company_name</th>\n",
       "      <th>trips_amount</th>\n",
       "    </tr>\n",
       "  </thead>\n",
       "  <tbody>\n",
       "    <tr>\n",
       "      <th>0</th>\n",
       "      <td>Flash Cab</td>\n",
       "      <td>19558</td>\n",
       "    </tr>\n",
       "    <tr>\n",
       "      <th>1</th>\n",
       "      <td>Taxi Affiliation Services</td>\n",
       "      <td>11422</td>\n",
       "    </tr>\n",
       "    <tr>\n",
       "      <th>2</th>\n",
       "      <td>Medallion Leasing</td>\n",
       "      <td>10367</td>\n",
       "    </tr>\n",
       "    <tr>\n",
       "      <th>3</th>\n",
       "      <td>Yellow Cab</td>\n",
       "      <td>9888</td>\n",
       "    </tr>\n",
       "    <tr>\n",
       "      <th>4</th>\n",
       "      <td>Taxi Affiliation Service Yellow</td>\n",
       "      <td>9299</td>\n",
       "    </tr>\n",
       "    <tr>\n",
       "      <th>5</th>\n",
       "      <td>Chicago Carriage Cab Corp</td>\n",
       "      <td>9181</td>\n",
       "    </tr>\n",
       "    <tr>\n",
       "      <th>6</th>\n",
       "      <td>City Service</td>\n",
       "      <td>8448</td>\n",
       "    </tr>\n",
       "    <tr>\n",
       "      <th>7</th>\n",
       "      <td>Sun Taxi</td>\n",
       "      <td>7701</td>\n",
       "    </tr>\n",
       "    <tr>\n",
       "      <th>8</th>\n",
       "      <td>Star North Management LLC</td>\n",
       "      <td>7455</td>\n",
       "    </tr>\n",
       "    <tr>\n",
       "      <th>9</th>\n",
       "      <td>Blue Ribbon Taxi Association Inc.</td>\n",
       "      <td>5953</td>\n",
       "    </tr>\n",
       "  </tbody>\n",
       "</table>\n",
       "</div>"
      ],
      "text/plain": [
       "                        company_name  trips_amount\n",
       "0                          Flash Cab         19558\n",
       "1          Taxi Affiliation Services         11422\n",
       "2                  Medallion Leasing         10367\n",
       "3                         Yellow Cab          9888\n",
       "4    Taxi Affiliation Service Yellow          9299\n",
       "5          Chicago Carriage Cab Corp          9181\n",
       "6                       City Service          8448\n",
       "7                           Sun Taxi          7701\n",
       "8          Star North Management LLC          7455\n",
       "9  Blue Ribbon Taxi Association Inc.          5953"
      ]
     },
     "execution_count": 39,
     "metadata": {},
     "output_type": "execute_result"
    }
   ],
   "source": [
    "company_trips_grouped = (company_trips.pivot_table(index='company_name',\n",
    "                                                  values='trips_amount', \n",
    "                                                  aggfunc='sum')\n",
    "                         .sort_values(by='trips_amount', ascending=False)\n",
    "                         .reset_index()\n",
    "                         )\n",
    "\n",
    "company_trips_grouped.head(10)"
   ]
  },
  {
   "cell_type": "code",
   "execution_count": 40,
   "metadata": {},
   "outputs": [
    {
     "data": {
      "image/png": "[encoded data removed]",
      "text/plain": [
       "<Figure size 1440x864 with 1 Axes>"
      ]
     },
     "metadata": {
      "needs_background": "light"
     },
     "output_type": "display_data"
    }
   ],
   "source": [
    "plt.figure(figsize=(20,12))\n",
    "sns.barplot(y='company_name', x='trips_amount', data=company_trips_grouped)\n",
    "plt.title('Número de viajes por empresa de taxis')\n",
    "plt.xlabel('Número de viajes')\n",
    "plt.ylabel('Compañía')\n",
    "plt.show()"
   ]
  },
  {
   "cell_type": "markdown",
   "metadata": {},
   "source": [
    "La empresa que registró un mayor número de viajes el 15 y 16 de noviembre del 2017 fue `Flash Cab` con 19558 viajes, convirtiéndose en la compañía de taxis líder en el mercado de transporte. Luego nos encontramos con la compañía `Taxi Affiliation Services` que registró 11422 viajes y la tercera compañía más importante fue `Medallion Leasing`con 10367 viajes. Por otro lado, las compañías `Yellow Cab`, `Taxi Affiliaton Service Yellow` y `Chicago Carriage Car Corp` presentaron entre 9000 a 10000 viajes. Se registran 15 compañías que realizan entre 1000 a 5000 viajes en estos días, y son 12 las compañías que reportaron más de 5000 viajes. También hay que recalcar que las 39 empresas con menos de 1000 viajes registran cerca de 4000 viajes, pudiendo establecer que los viajes totales de 39 empresas no alcanzaron a la empresa líder del mercado `Flash Cab`.\n",
    "\n",
    "### Barrios Principales por número de finalizaciones\n",
    "\n",
    "Ahora vamos a establecer los 10 principales barrios de Chicago en términos de finalización de recorrido, es decir los barrios que registraron el mayor promedio de viajes que terminaron su recorrido en dicho lugar. Para esto vamos a tomar nuestro dataset `dropoff_trips` y extraeremos los diez principales barrios llamando al método head(), ya que el dataset ya se encuentra ordenado de forma descendente por el valor promedio de viajes realizados. Guardaremos estos resultados en la variable `main_neighborhoods`."
   ]
  },
  {
   "cell_type": "code",
   "execution_count": 41,
   "metadata": {},
   "outputs": [
    {
     "data": {
      "text/html": [
       "<div>\n",
       "<style scoped>\n",
       "    .dataframe tbody tr th:only-of-type {\n",
       "        vertical-align: middle;\n",
       "    }\n",
       "\n",
       "    .dataframe tbody tr th {\n",
       "        vertical-align: top;\n",
       "    }\n",
       "\n",
       "    .dataframe thead th {\n",
       "        text-align: right;\n",
       "    }\n",
       "</style>\n",
       "<table border=\"1\" class=\"dataframe\">\n",
       "  <thead>\n",
       "    <tr style=\"text-align: right;\">\n",
       "      <th></th>\n",
       "      <th>dropoff_location_name</th>\n",
       "      <th>average_trips</th>\n",
       "    </tr>\n",
       "  </thead>\n",
       "  <tbody>\n",
       "    <tr>\n",
       "      <th>0</th>\n",
       "      <td>Loop</td>\n",
       "      <td>10727</td>\n",
       "    </tr>\n",
       "    <tr>\n",
       "      <th>1</th>\n",
       "      <td>River North</td>\n",
       "      <td>9524</td>\n",
       "    </tr>\n",
       "    <tr>\n",
       "      <th>2</th>\n",
       "      <td>Streeterville</td>\n",
       "      <td>6665</td>\n",
       "    </tr>\n",
       "    <tr>\n",
       "      <th>3</th>\n",
       "      <td>West Loop</td>\n",
       "      <td>5164</td>\n",
       "    </tr>\n",
       "    <tr>\n",
       "      <th>4</th>\n",
       "      <td>O'Hare</td>\n",
       "      <td>2547</td>\n",
       "    </tr>\n",
       "    <tr>\n",
       "      <th>5</th>\n",
       "      <td>Lake View</td>\n",
       "      <td>2421</td>\n",
       "    </tr>\n",
       "    <tr>\n",
       "      <th>6</th>\n",
       "      <td>Grant Park</td>\n",
       "      <td>2069</td>\n",
       "    </tr>\n",
       "    <tr>\n",
       "      <th>7</th>\n",
       "      <td>Museum Campus</td>\n",
       "      <td>1510</td>\n",
       "    </tr>\n",
       "    <tr>\n",
       "      <th>8</th>\n",
       "      <td>Gold Coast</td>\n",
       "      <td>1364</td>\n",
       "    </tr>\n",
       "    <tr>\n",
       "      <th>9</th>\n",
       "      <td>Sheffield &amp; DePaul</td>\n",
       "      <td>1260</td>\n",
       "    </tr>\n",
       "  </tbody>\n",
       "</table>\n",
       "</div>"
      ],
      "text/plain": [
       "  dropoff_location_name  average_trips\n",
       "0                  Loop          10727\n",
       "1           River North           9524\n",
       "2         Streeterville           6665\n",
       "3             West Loop           5164\n",
       "4                O'Hare           2547\n",
       "5             Lake View           2421\n",
       "6            Grant Park           2069\n",
       "7         Museum Campus           1510\n",
       "8            Gold Coast           1364\n",
       "9    Sheffield & DePaul           1260"
      ]
     },
     "execution_count": 41,
     "metadata": {},
     "output_type": "execute_result"
    }
   ],
   "source": [
    "main_neighborhoods = dropoff_trips.head(10)\n",
    "main_neighborhoods"
   ]
  },
  {
   "cell_type": "markdown",
   "metadata": {},
   "source": [
    "Ahora vamos a graficar estos resultados, para lo cual realizaremos un gráfico de barras utilizando la función barplot de la librería seaborn. "
   ]
  },
  {
   "cell_type": "code",
   "execution_count": 42,
   "metadata": {},
   "outputs": [
    {
     "data": {
      "image/png": "[encoded data removed]",
      "text/plain": [
       "<Figure size 1080x432 with 1 Axes>"
      ]
     },
     "metadata": {
      "needs_background": "light"
     },
     "output_type": "display_data"
    }
   ],
   "source": [
    "plt.figure(figsize=(15,6))\n",
    "sns.barplot(x='dropoff_location_name', y='average_trips', data=main_neighborhoods)\n",
    "plt.title('Promedio de finalizaciones por los 10 principales barrios')\n",
    "plt.xlabel('Promedio de viajes')\n",
    "plt.ylabel('Nombre del Barrio')\n",
    "plt.xticks(rotation=60)\n",
    "plt.show()"
   ]
  },
  {
   "cell_type": "markdown",
   "metadata": {},
   "source": [
    "Los diez principales barrios en Chicago que registran los promedios más altos de viajes finalizados en dicho lugar son: `Loop`, `River North`, `Streeterville`, `West Loop`, `O'hare`, `Lake View`, `Grant Park`, `Museum Campus`,`Gold Coast` y `Sheffield & DePaul`. El barrio de Loop es el que registró el mayor número de finalizaciones, con un promedio de 10727, esto puede estar relacionado a que Loop es uno de los barrios más turísticos con una gran cantidad de restaurantes, tiendas, teatros y parques, lo que justificaría el alto número de viajes a la zona. El siguiente barrio es `River North`con un promedio de 9524 finalizaciones, seguido de `Streeterville` con 6665 finalizaciones. Son cuatro los barrios que registran un promedio mayor a 4000 viajes, mientras que seis barrios se encuentran por debajo de las 3000 finalizaciones. \n",
    "\n",
    "## Prueba de hipótesis\n",
    "\n",
    "### Hipótesis: la duración promedio de los viajes desde el Loop hasta el Aeropuerto Internacional O'Hare cambia los sábados lluviosos\n",
    "\n",
    "Se ha planteado la hipótesis de que la duración promedio de los viajes desde el Loop hasta el Aeropuerto Internacional O'Hare cambia los sábados lluviosos. Para esto trabajaremos con nuestro dataset `weather_trips` que registra la duración de viajes y el clima (Good o Bad) para cada sábado del mes de noviembre del 2017. Nuestros datos ya fueron transformados al tipo correcto, se decidió mantener duplicados y eliminar viajes con cero segundos de duración. \n",
    "\n",
    "Empecemos creando un dataset para los sábados con un clima bueno, al cual llamaremos `good_weather`. También crearemos el dataset `bad_weather` para aquellos sábados con climas lluviosos o con tormentas. "
   ]
  },
  {
   "cell_type": "code",
   "execution_count": 43,
   "metadata": {},
   "outputs": [
    {
     "name": "stdout",
     "output_type": "stream",
     "text": [
      "<class 'pandas.core.frame.DataFrame'>\n",
      "Int64Index: 882 entries, 0 to 1066\n",
      "Data columns (total 3 columns):\n",
      " #   Column              Non-Null Count  Dtype         \n",
      "---  ------              --------------  -----         \n",
      " 0   start_ts            882 non-null    datetime64[ns]\n",
      " 1   weather_conditions  882 non-null    object        \n",
      " 2   duration_seconds    882 non-null    float64       \n",
      "dtypes: datetime64[ns](1), float64(1), object(1)\n",
      "memory usage: 27.6+ KB\n"
     ]
    }
   ],
   "source": [
    "good_weather = weather_trips.query('weather_conditions == \"Good\"')\n",
    "good_weather.info()"
   ]
  },
  {
   "cell_type": "code",
   "execution_count": 44,
   "metadata": {},
   "outputs": [
    {
     "name": "stdout",
     "output_type": "stream",
     "text": [
      "<class 'pandas.core.frame.DataFrame'>\n",
      "Int64Index: 180 entries, 6 to 1067\n",
      "Data columns (total 3 columns):\n",
      " #   Column              Non-Null Count  Dtype         \n",
      "---  ------              --------------  -----         \n",
      " 0   start_ts            180 non-null    datetime64[ns]\n",
      " 1   weather_conditions  180 non-null    object        \n",
      " 2   duration_seconds    180 non-null    float64       \n",
      "dtypes: datetime64[ns](1), float64(1), object(1)\n",
      "memory usage: 5.6+ KB\n"
     ]
    }
   ],
   "source": [
    "bad_weather = weather_trips.query('weather_conditions == \"Bad\"')\n",
    "bad_weather.info()"
   ]
  },
  {
   "cell_type": "markdown",
   "metadata": {},
   "source": [
    "Ahora vamos a establecer si ´la duración de viajes para días con clima bueno y malo presentan distribuciones similares, para esto realizaremos el test de Kolmogorov-Smirnov para dos muestras, estableceremos un nivel de significancia de 0.05. La hipótesis nula establece que las distribuciones son similares y la alternativa que no lo son, si el valor p es superior a 0,05 no podremos rechazar la hipótesis nula y las distribuciones son similares, y si el valor p es inferor a 0,05 aceptaremos la hipótesis alternativa. Para esto utilizaremos la función ks_2samp de la librería scipy. "
   ]
  },
  {
   "cell_type": "code",
   "execution_count": 45,
   "metadata": {},
   "outputs": [
    {
     "name": "stdout",
     "output_type": "stream",
     "text": [
      "pvalue: 5.633970064597451e-14\n",
      "Rechazamos la hipótesis nula: distribuciones diferentes\n"
     ]
    }
   ],
   "source": [
    "sample_1 = good_weather['duration_seconds']\n",
    "sample_2 = bad_weather['duration_seconds']\n",
    "alpha = 0.05\n",
    "\n",
    "results = st.ks_2samp(sample_1, sample_2)\n",
    "\n",
    "print('pvalue:', results.pvalue)\n",
    "\n",
    "if results.pvalue < alpha:\n",
    "    print(\"Rechazamos la hipótesis nula: distribuciones diferentes\")\n",
    "else:\n",
    "    print(\"No rechazamos la hipótesis nula: distribuciones similares\")"
   ]
  },
  {
   "cell_type": "markdown",
   "metadata": {},
   "source": [
    "El valor p fue menor a 0.05 por lo que rechazamos la hipótesis nula y podemos establecer que nuestras muestras no presentan distribuciones similares. A continuacion, vamos a establecer si quizás nuestras muestras presentan una distribución normal, para esto utilizaremos el test normalidad de Shapiro-Wilk con un nivel de significancia de 0.05, si el valor p es superior a 0.05 se acepta nuestra hipótesis nula y las muestras siguen una distribución normal, y si el valor p es inferior a 0.05, se rechaza la hipótesis nula y las muestras no presentan normalidad. "
   ]
  },
  {
   "cell_type": "code",
   "execution_count": 46,
   "metadata": {},
   "outputs": [
    {
     "name": "stdout",
     "output_type": "stream",
     "text": [
      "pvalue good_weather: 4.658177891397572e-24\n",
      "Rechazamos la hipótesis nula: no hay normalidad\n",
      "-----------------------------------------------\n",
      "pvalue bad_weather: 0.0036118649877607822\n",
      "Rechazamos la hipótesis nula: no hay normalidad\n"
     ]
    }
   ],
   "source": [
    "sample_1 = good_weather['duration_seconds']\n",
    "sample_2 = bad_weather['duration_seconds']\n",
    "alpha = 0.05\n",
    "\n",
    "results_sample_1 = shapiro(sample_1)\n",
    "\n",
    "print('pvalue good_weather:', results_sample_1.pvalue)\n",
    "\n",
    "if results.pvalue < alpha:\n",
    "    print(\"Rechazamos la hipótesis nula: no hay normalidad\")\n",
    "else:\n",
    "    print(\"No rechazamos la hipótesis nula: distribución normal\")\n",
    "    \n",
    "print('-----------------------------------------------')\n",
    "\n",
    "results_sample_2 = shapiro(sample_2)\n",
    "\n",
    "print('pvalue bad_weather:', results_sample_2.pvalue)\n",
    "\n",
    "if results.pvalue < alpha:\n",
    "    print(\"Rechazamos la hipótesis nula: no hay normalidad\")\n",
    "else:\n",
    "    print(\"No rechazamos la hipótesis nula: distribución normal\")"
   ]
  },
  {
   "cell_type": "markdown",
   "metadata": {},
   "source": [
    "El valor p tanto para la duración de viajes en `good_weather` y `bad_weather` es inferior al valor de significancia de 0.05, por lo que se rechaza la hipótesis nula y ninguna de las muestras presenta una distribución normal. \n",
    "\n",
    "Para nuestra prueba de hipótesis vamos a trabajar con muestras que no presentan distribuciones similares ni normalidad. Antes de plantear las hipótesis correspondientes solo nos queda establecer si las muestras presentan varianzas similares o diferentes, para esto utilizaremos el test de Levene para homogeneidad de varianzas con un nivel de significancia de 0.05. Si el valor p es mayor a 0.05 no rechazamos la hipótesis nula y las muestras presentan varianzas iguales, y si el valor p es menor a 0.05, las varianzas de las muestras son diferentes. Vamos a calcular las varianzas de cada muestra y posteriomente llamaremos al test de Levene de la librería Scipy.stats, estableceremos el parámetro center=median, ya que gracias al test de Shapiro se pudo establecer que las muestras no presentan normalidad. "
   ]
  },
  {
   "cell_type": "code",
   "execution_count": 47,
   "metadata": {},
   "outputs": [
    {
     "name": "stdout",
     "output_type": "stream",
     "text": [
      "Varianza duración de viajes good_weather: 552262.3734555047\n",
      "Varianza duración de viajes bad_weather: 517403.56330246915\n"
     ]
    }
   ],
   "source": [
    "print('Varianza duración de viajes good_weather:', np.var(good_weather['duration_seconds']))\n",
    "print('Varianza duración de viajes bad_weather:', np.var(bad_weather['duration_seconds']))"
   ]
  },
  {
   "cell_type": "code",
   "execution_count": 48,
   "metadata": {},
   "outputs": [
    {
     "name": "stdout",
     "output_type": "stream",
     "text": [
      "pvalue: 0.6687312920630069\n",
      "No rechazamos la hipótesis nula: varianzas iguales\n"
     ]
    }
   ],
   "source": [
    "sample_1 = good_weather['duration_seconds']\n",
    "sample_2 = bad_weather['duration_seconds']\n",
    "alpha = 0.05\n",
    "\n",
    "results = levene(sample_1, sample_2, center='median')\n",
    "\n",
    "print('pvalue:', results.pvalue)\n",
    "\n",
    "if results.pvalue < alpha:\n",
    "    print(\"Rechazamos la hipótesis nula: varianzas diferentes\")\n",
    "else:\n",
    "    print(\"No rechazamos la hipótesis nula: varianzas iguales\")"
   ]
  },
  {
   "cell_type": "markdown",
   "metadata": {},
   "source": [
    "El valor p de la prueba de homogeneidad de varianzas de Levene fue de 0.66, mayor a nuestro valor de significancia de 0.05, por lo que no rechazamos la hipótesis nula y nuestras muestras presentan varianzas similares. \n",
    "\n",
    "Considerando que trabajaremos con muestras con distribuciones diferentes que no presentan normalidad y con homogeneidad de varianzas, plantareamos nuestra hipótesis nula y alternativa.\n",
    "\n",
    "- `H0` = *la duración promedio de los viajes desde el Loop hasta el Aeropuerto Internacional O'Hare es igual los sábados lluviosos como los sábados con un buen clima.*\n",
    "- `H1` = *la duración promedio de los viajes desde el Loop hasta el Aeropuerto Internacional O'Hare cambia los sábados con clima lluvioso o malo.*\n",
    "\n",
    "Ahora realizaremos nuestra prueba de hipótesis. Para esto utilizaremos la prueba T-student que nos permitirá establecer si las medias aritméticas de nuestras dos muestras son iguales o no, esta prueba nos devuelve un valor p, que será comparado con alpha o el nivel de significancia de 0.05. El valor de alpha sirve como un valor límite a partir del cual se rechazará o aceptará nuestra hipótesis nula, en este caso si el valor p de la prueba T es menor a alpha, aceptaremos la hipótesis alternativa y rechazaremos la hipótesis nula. Por el contrario, si el valor p es mayor a alpha, aceptaremos la hipótesis nula. \n",
    "\n",
    "Para realizar todo esto vamos a utilizar la función estadística st.ttest_ind de la librería scipy.stats, esta función toma como argumentos las dos muestras que se están comparando, `sample_1` será la duración de viajes para los sábados con un clima bueno, mientras que `sample_2` será la duración de viajes los sábados con un clima malo o lluvioso, y finalmente estableceremos el argumento equal_var en True, ya que al realizar el test de Levene se pudo corroborar que las varianzas de las poblaciones son iguales. Luego a través del condicional if/else vamos a establecer las condiciones para rechazar o aceptar la H0 en base al valor alpha, como ya lo realizamos para las otras pruebas. "
   ]
  },
  {
   "cell_type": "code",
   "execution_count": 49,
   "metadata": {},
   "outputs": [
    {
     "name": "stdout",
     "output_type": "stream",
     "text": [
      "Promedio de duración de viajes good_weather: 2013.2789115646258\n",
      "Promedio de duración de viajes bad_weather: 2427.2055555555557\n"
     ]
    }
   ],
   "source": [
    "print('Promedio de duración de viajes good_weather:', good_weather['duration_seconds'].mean())\n",
    "print('Promedio de duración de viajes bad_weather:', bad_weather['duration_seconds'].mean())"
   ]
  },
  {
   "cell_type": "code",
   "execution_count": 50,
   "metadata": {},
   "outputs": [
    {
     "name": "stdout",
     "output_type": "stream",
     "text": [
      "pvalue: 1.3318772977743245e-11\n",
      "Rechazamos la hipótesis nula\n"
     ]
    }
   ],
   "source": [
    "sample_1 = good_weather['duration_seconds']\n",
    "sample_2 = bad_weather['duration_seconds']\n",
    "alpha = 0.05\n",
    "\n",
    "results = st.ttest_ind(sample_1, sample_2, equal_var=True)\n",
    "\n",
    "print('pvalue:', results.pvalue)\n",
    "\n",
    "if results.pvalue < alpha:\n",
    "    print(\"Rechazamos la hipótesis nula\")\n",
    "else:\n",
    "    print(\"No rechazamos la hipótesis nula\") "
   ]
  },
  {
   "cell_type": "markdown",
   "metadata": {},
   "source": [
    "El promedio de duración de viajes en good_weather fue de 2013.17, mientras que para `bad_weather` fue de 2424.20, parecería que los sábados lluviosos la duración de viajes es mayor. Al aplicar el test T-student el valor p fue menor a nuestro nivel de significancia de 0.05 por lo que se rechaza la hipótesis nula, y se puede establecer que el promedio de duración de viajes durante los sábados lluviosos de noviembre de 2017 es mayor a aquellos sábados que presentaron un buen clima. "
   ]
  },
  {
   "cell_type": "markdown",
   "metadata": {},
   "source": [
    "## Conclusiones\n",
    "\n",
    "**Conclusiones Preprocesamiento de Datos**\n",
    "\n",
    "1. Se trabajo con tres datasets que se obtuvieron a través de bases de datos relacionales, las cales contenían información sobre los viajes realizados por diferentes empresas de taxis en Chicago durante noviembre de 2017. El primer dataset `company_trips` contenía el número de viajes por compañía de taxis, el cual no presentó valores ausentes, duplicados y los tipos de datos fueron correctos. \n",
    "2. El segundo dataset `dropoff_trips` contenía el promedio de viajes finalizados por cada barrio de Chicago. En este dataset no se encontraron valores ausentes ni duplicados, y los valores promedios de viajes se encontraban en tipo float, por lo que se decidió redondearlos y transformalos a tipo entero. \n",
    "3. El tercer dataset `weather_trips` presentaba la fecha y hora de viajes realizados los días sábados entre el barrio Loop y el Aeropuerto O'hare, así como las condiciones meteorológicas al momento del viaje. En este dataset no se registraron valores ausentes; sin embargo se observaron duplicados con viajes realizados en la misma fecha y hora con la misma duración en segundos, estos valores pueden atribuirse a viajes realizados por taxis de diferentes compañías que empezaron el viaje alrededor de la misma hora, ya que se trabajó con la hora redondeada. Por esta razón, se decidió mantener los duplicados. En el caso de los viajes con duración de cero segundos, se procedió a eliminarlos ya que podrían ser viajes cancelados. "
   ]
  },
  {
   "cell_type": "markdown",
   "metadata": {},
   "source": [
    "**Conclusiones Análisis Exploratorio de Datos**\n",
    "\n",
    "1. La empresa de taxis que registró el mayor número de viajes los días 15 y 16 de noviembre de 2017 fue Flash Cab con cerca de 20000 viajes, por lo que se consideraría la empresa líder en el mercado. En segundo lugar, se encuentra la compañía Taxi Affiliation Services con alrededor de 11000 viajes, y en tercer lugar Medallion Leasing con 10000 viajes. Las compañías Yellow Cab, Taxi Affiliaton Service Yellow y Chicago Carriage Car Corp registraron entre 9000 a 10000 viajes. 15 compañías evidenciaron entre 1000 a 5000 viajes, y el total de viajes de 39 compañías no fue suficiente para alcanzar el número de viajes de Flash Cab. \n",
    "2. Hay que considerar que factores cómo el tiempo que lleva la compañía de transporte en el mercado pueden estar influenciando en estos resultados, quizás Flash Cab, Taxi Affiliation Services y Medallion Leasing sean las empresas más antiguas, por lo que presenta un mayor número de unidades de taxis y por tanto un mayor número de viajes. Estas tres empresas serán la principal comptencia de Zuber en el mercado de transporte. \n",
    "3. Los diez barrios principales en relación al número de finalizaciones fueron: Loop, River North, Streeterville, West Loop, O'hare, Lake View, Grant Park, Museum Campus, Gold Coast y Sheffield & DePaul. El barrio que registró el mayor número de finalizaciones fue Loop con 10727 viajes finalizados en este lugar, luego River North con 9524 y Streeterville con 6665. Al parecer los barrios que presentan más atracciones turísticas o zonas empresariales son los que registraron un mayor número de finalizaciones. Zuber tendrá que dirigir sus estrategias de marketing y unidades a estos barrios. "
   ]
  },
  {
   "cell_type": "markdown",
   "metadata": {},
   "source": [
    "**Conclusiones Prueba de Hipótesis**\n",
    "\n",
    "1. Se estudió la duración de viajes los días sábados de Noviembre de 2017 entre el barrio Loop y el Aeropuerto O'hare, comparando los días con condiciones climáticas buenas y aquellos días con condiciones climáticas malas(registro de lluvias o tormentas). Se trabajo con muestras de distribuciones diferentes, que no presentaron normalidad y con homogeneidad de varianzas. En base a estas muestras se pudo corrobar la hipótesis planteada en un inicio y se concluyó que la duración de viajes entre estos lugares incrementa los días con malas condiciones climáticas. Es así que se puede establecer que el clima es un factor externo que puede influir en la frecuencia de viajes en taxi, los sábados lluviosos incrementará la demanda de transporte por lo que incrementará el tráfico vehicular. Zuber deberá prestar especial atención al clima ya que los viajes compartidos serán beneficiosos durante días lluviosos. "
   ]
  },
  {
   "cell_type": "code",
   "execution_count": null,
   "metadata": {},
   "outputs": [],
   "source": []
  }
 ],
 "metadata": {
  "kernelspec": {
   "display_name": "Python 3 (ipykernel)",
   "language": "python",
   "name": "python3"
  },
  "language_info": {
   "codemirror_mode": {
    "name": "ipython",
    "version": 3
   },
   "file_extension": ".py",
   "mimetype": "text/x-python",
   "name": "python",
   "nbconvert_exporter": "python",
   "pygments_lexer": "ipython3",
   "version": "3.9.12"
  },
  "toc": {
   "base_numbering": 1,
   "nav_menu": {},
   "number_sections": true,
   "sideBar": true,
   "skip_h1_title": true,
   "title_cell": "Tabla de contenidos",
   "title_sidebar": "Contents",
   "toc_cell": true,
   "toc_position": {
    "height": "calc(100% - 180px)",
    "left": "10px",
    "top": "150px",
    "width": "286.075px"
   },
   "toc_section_display": true,
   "toc_window_display": true
  }
 },
 "nbformat": 4,
 "nbformat_minor": 2
}
